{
 "cells": [
  {
   "cell_type": "code",
   "execution_count": 1,
   "id": "1394a505",
   "metadata": {
    "execution": {
     "iopub.execute_input": "2024-06-25T06:15:33.013092Z",
     "iopub.status.busy": "2024-06-25T06:15:33.012691Z",
     "iopub.status.idle": "2024-06-25T06:15:33.922730Z",
     "shell.execute_reply": "2024-06-25T06:15:33.921611Z"
    },
    "papermill": {
     "duration": 0.920411,
     "end_time": "2024-06-25T06:15:33.925191",
     "exception": false,
     "start_time": "2024-06-25T06:15:33.004780",
     "status": "completed"
    },
    "tags": []
   },
   "outputs": [],
   "source": [
    "import pandas as pd \n",
    "import numpy as np "
   ]
  },
  {
   "cell_type": "code",
   "execution_count": 2,
   "id": "fd414366",
   "metadata": {
    "_cell_guid": "b1076dfc-b9ad-4769-8c92-a6c4dae69d19",
    "_uuid": "8f2839f25d086af736a60e9eeb907d3b93b6e0e5",
    "execution": {
     "iopub.execute_input": "2024-06-25T06:15:33.938610Z",
     "iopub.status.busy": "2024-06-25T06:15:33.938122Z",
     "iopub.status.idle": "2024-06-25T06:15:37.322771Z",
     "shell.execute_reply": "2024-06-25T06:15:37.321779Z"
    },
    "papermill": {
     "duration": 3.394201,
     "end_time": "2024-06-25T06:15:37.325355",
     "exception": false,
     "start_time": "2024-06-25T06:15:33.931154",
     "status": "completed"
    },
    "tags": []
   },
   "outputs": [],
   "source": [
    "data_true=pd.read_csv('/kaggle/input/fake-and-real-news-dataset/True.csv')\n",
    "data_false=pd.read_csv('/kaggle/input/fake-and-real-news-dataset/Fake.csv')\n",
    "\n",
    "data_true['label']=1\n",
    "data_false['label']=0"
   ]
  },
  {
   "cell_type": "code",
   "execution_count": 3,
   "id": "d45d172d",
   "metadata": {
    "execution": {
     "iopub.execute_input": "2024-06-25T06:15:37.339008Z",
     "iopub.status.busy": "2024-06-25T06:15:37.338084Z",
     "iopub.status.idle": "2024-06-25T06:15:37.685270Z",
     "shell.execute_reply": "2024-06-25T06:15:37.683987Z"
    },
    "papermill": {
     "duration": 0.356925,
     "end_time": "2024-06-25T06:15:37.688162",
     "exception": false,
     "start_time": "2024-06-25T06:15:37.331237",
     "status": "completed"
    },
    "tags": []
   },
   "outputs": [
    {
     "data": {
      "text/plain": [
       "3"
      ]
     },
     "execution_count": 3,
     "metadata": {},
     "output_type": "execute_result"
    }
   ],
   "source": [
    "data_true.duplicated().sum()\n",
    "data_false.duplicated().sum()"
   ]
  },
  {
   "cell_type": "code",
   "execution_count": 4,
   "id": "b7142af4",
   "metadata": {
    "execution": {
     "iopub.execute_input": "2024-06-25T06:15:37.702846Z",
     "iopub.status.busy": "2024-06-25T06:15:37.702440Z",
     "iopub.status.idle": "2024-06-25T06:15:37.997324Z",
     "shell.execute_reply": "2024-06-25T06:15:37.996089Z"
    },
    "papermill": {
     "duration": 0.304718,
     "end_time": "2024-06-25T06:15:37.999779",
     "exception": false,
     "start_time": "2024-06-25T06:15:37.695061",
     "status": "completed"
    },
    "tags": []
   },
   "outputs": [],
   "source": [
    "data_true.drop_duplicates(inplace=True)\n",
    "data_false.drop_duplicates(inplace=True)"
   ]
  },
  {
   "cell_type": "code",
   "execution_count": 5,
   "id": "15e06591",
   "metadata": {
    "execution": {
     "iopub.execute_input": "2024-06-25T06:15:38.013445Z",
     "iopub.status.busy": "2024-06-25T06:15:38.013053Z",
     "iopub.status.idle": "2024-06-25T06:15:38.021650Z",
     "shell.execute_reply": "2024-06-25T06:15:38.020260Z"
    },
    "papermill": {
     "duration": 0.018095,
     "end_time": "2024-06-25T06:15:38.023907",
     "exception": false,
     "start_time": "2024-06-25T06:15:38.005812",
     "status": "completed"
    },
    "tags": []
   },
   "outputs": [
    {
     "data": {
      "text/plain": [
       "Index(['title', 'text', 'subject', 'date', 'label'], dtype='object')"
      ]
     },
     "execution_count": 5,
     "metadata": {},
     "output_type": "execute_result"
    }
   ],
   "source": [
    "data_true.columns"
   ]
  },
  {
   "cell_type": "code",
   "execution_count": 6,
   "id": "d68a5829",
   "metadata": {
    "execution": {
     "iopub.execute_input": "2024-06-25T06:15:38.037811Z",
     "iopub.status.busy": "2024-06-25T06:15:38.036945Z",
     "iopub.status.idle": "2024-06-25T06:15:38.045548Z",
     "shell.execute_reply": "2024-06-25T06:15:38.044311Z"
    },
    "papermill": {
     "duration": 0.017995,
     "end_time": "2024-06-25T06:15:38.047851",
     "exception": false,
     "start_time": "2024-06-25T06:15:38.029856",
     "status": "completed"
    },
    "tags": []
   },
   "outputs": [
    {
     "data": {
      "text/plain": [
       "0"
      ]
     },
     "execution_count": 6,
     "metadata": {},
     "output_type": "execute_result"
    }
   ],
   "source": [
    "data_true[data_true['title']==None].shape[0]\n",
    "data_false[data_false['title']==None].shape[0]"
   ]
  },
  {
   "cell_type": "markdown",
   "id": "b17e6419",
   "metadata": {
    "papermill": {
     "duration": 0.005835,
     "end_time": "2024-06-25T06:15:38.060300",
     "exception": false,
     "start_time": "2024-06-25T06:15:38.054465",
     "status": "completed"
    },
    "tags": []
   },
   "source": [
    "### Preprocessing"
   ]
  },
  {
   "cell_type": "code",
   "execution_count": 7,
   "id": "db7762a3",
   "metadata": {
    "execution": {
     "iopub.execute_input": "2024-06-25T06:15:38.073962Z",
     "iopub.status.busy": "2024-06-25T06:15:38.073589Z",
     "iopub.status.idle": "2024-06-25T06:15:46.321033Z",
     "shell.execute_reply": "2024-06-25T06:15:46.319930Z"
    },
    "papermill": {
     "duration": 8.25719,
     "end_time": "2024-06-25T06:15:46.323485",
     "exception": false,
     "start_time": "2024-06-25T06:15:38.066295",
     "status": "completed"
    },
    "tags": []
   },
   "outputs": [],
   "source": [
    "import nltk \n",
    "from nltk import word_tokenize,sent_tokenize\n",
    "from nltk.corpus import stopwords\n",
    "import spacy\n",
    "\n",
    "Stop_words=stopwords.words('english')\n",
    "model=spacy.load('en_core_web_sm')\n",
    "\n",
    "def lemmatize(text,model):\n",
    "    doc=model(text)\n",
    "    lemmatized_tokens=[i.lemma_ for i in doc if i.is_punct==False and i.is_stop==False]\n",
    "    return ' '.join(lemmatized_tokens)"
   ]
  },
  {
   "cell_type": "code",
   "execution_count": 8,
   "id": "0ccbb0de",
   "metadata": {
    "execution": {
     "iopub.execute_input": "2024-06-25T06:15:46.338596Z",
     "iopub.status.busy": "2024-06-25T06:15:46.338032Z",
     "iopub.status.idle": "2024-06-25T06:15:46.354222Z",
     "shell.execute_reply": "2024-06-25T06:15:46.353112Z"
    },
    "papermill": {
     "duration": 0.026852,
     "end_time": "2024-06-25T06:15:46.356526",
     "exception": false,
     "start_time": "2024-06-25T06:15:46.329674",
     "status": "completed"
    },
    "tags": []
   },
   "outputs": [
    {
     "data": {
      "text/html": [
       "<div>\n",
       "<style scoped>\n",
       "    .dataframe tbody tr th:only-of-type {\n",
       "        vertical-align: middle;\n",
       "    }\n",
       "\n",
       "    .dataframe tbody tr th {\n",
       "        vertical-align: top;\n",
       "    }\n",
       "\n",
       "    .dataframe thead th {\n",
       "        text-align: right;\n",
       "    }\n",
       "</style>\n",
       "<table border=\"1\" class=\"dataframe\">\n",
       "  <thead>\n",
       "    <tr style=\"text-align: right;\">\n",
       "      <th></th>\n",
       "      <th>title</th>\n",
       "      <th>text</th>\n",
       "      <th>subject</th>\n",
       "      <th>date</th>\n",
       "      <th>label</th>\n",
       "    </tr>\n",
       "  </thead>\n",
       "  <tbody>\n",
       "    <tr>\n",
       "      <th>0</th>\n",
       "      <td>As U.S. budget fight looms, Republicans flip t...</td>\n",
       "      <td>WASHINGTON (Reuters) - The head of a conservat...</td>\n",
       "      <td>politicsNews</td>\n",
       "      <td>December 31, 2017</td>\n",
       "      <td>1</td>\n",
       "    </tr>\n",
       "    <tr>\n",
       "      <th>1</th>\n",
       "      <td>U.S. military to accept transgender recruits o...</td>\n",
       "      <td>WASHINGTON (Reuters) - Transgender people will...</td>\n",
       "      <td>politicsNews</td>\n",
       "      <td>December 29, 2017</td>\n",
       "      <td>1</td>\n",
       "    </tr>\n",
       "    <tr>\n",
       "      <th>2</th>\n",
       "      <td>Senior U.S. Republican senator: 'Let Mr. Muell...</td>\n",
       "      <td>WASHINGTON (Reuters) - The special counsel inv...</td>\n",
       "      <td>politicsNews</td>\n",
       "      <td>December 31, 2017</td>\n",
       "      <td>1</td>\n",
       "    </tr>\n",
       "    <tr>\n",
       "      <th>3</th>\n",
       "      <td>FBI Russia probe helped by Australian diplomat...</td>\n",
       "      <td>WASHINGTON (Reuters) - Trump campaign adviser ...</td>\n",
       "      <td>politicsNews</td>\n",
       "      <td>December 30, 2017</td>\n",
       "      <td>1</td>\n",
       "    </tr>\n",
       "    <tr>\n",
       "      <th>4</th>\n",
       "      <td>Trump wants Postal Service to charge 'much mor...</td>\n",
       "      <td>SEATTLE/WASHINGTON (Reuters) - President Donal...</td>\n",
       "      <td>politicsNews</td>\n",
       "      <td>December 29, 2017</td>\n",
       "      <td>1</td>\n",
       "    </tr>\n",
       "  </tbody>\n",
       "</table>\n",
       "</div>"
      ],
      "text/plain": [
       "                                               title  \\\n",
       "0  As U.S. budget fight looms, Republicans flip t...   \n",
       "1  U.S. military to accept transgender recruits o...   \n",
       "2  Senior U.S. Republican senator: 'Let Mr. Muell...   \n",
       "3  FBI Russia probe helped by Australian diplomat...   \n",
       "4  Trump wants Postal Service to charge 'much mor...   \n",
       "\n",
       "                                                text       subject  \\\n",
       "0  WASHINGTON (Reuters) - The head of a conservat...  politicsNews   \n",
       "1  WASHINGTON (Reuters) - Transgender people will...  politicsNews   \n",
       "2  WASHINGTON (Reuters) - The special counsel inv...  politicsNews   \n",
       "3  WASHINGTON (Reuters) - Trump campaign adviser ...  politicsNews   \n",
       "4  SEATTLE/WASHINGTON (Reuters) - President Donal...  politicsNews   \n",
       "\n",
       "                 date  label  \n",
       "0  December 31, 2017       1  \n",
       "1  December 29, 2017       1  \n",
       "2  December 31, 2017       1  \n",
       "3  December 30, 2017       1  \n",
       "4  December 29, 2017       1  "
      ]
     },
     "execution_count": 8,
     "metadata": {},
     "output_type": "execute_result"
    }
   ],
   "source": [
    "### Exploring the data \n",
    "data_true.head()"
   ]
  },
  {
   "cell_type": "code",
   "execution_count": 9,
   "id": "5ac0ef72",
   "metadata": {
    "execution": {
     "iopub.execute_input": "2024-06-25T06:15:46.370961Z",
     "iopub.status.busy": "2024-06-25T06:15:46.370553Z",
     "iopub.status.idle": "2024-06-25T06:15:46.386562Z",
     "shell.execute_reply": "2024-06-25T06:15:46.385411Z"
    },
    "papermill": {
     "duration": 0.025907,
     "end_time": "2024-06-25T06:15:46.388706",
     "exception": false,
     "start_time": "2024-06-25T06:15:46.362799",
     "status": "completed"
    },
    "tags": []
   },
   "outputs": [
    {
     "data": {
      "text/html": [
       "<div>\n",
       "<style scoped>\n",
       "    .dataframe tbody tr th:only-of-type {\n",
       "        vertical-align: middle;\n",
       "    }\n",
       "\n",
       "    .dataframe tbody tr th {\n",
       "        vertical-align: top;\n",
       "    }\n",
       "\n",
       "    .dataframe thead th {\n",
       "        text-align: right;\n",
       "    }\n",
       "</style>\n",
       "<table border=\"1\" class=\"dataframe\">\n",
       "  <thead>\n",
       "    <tr style=\"text-align: right;\">\n",
       "      <th></th>\n",
       "      <th>title</th>\n",
       "      <th>text</th>\n",
       "      <th>subject</th>\n",
       "      <th>date</th>\n",
       "      <th>label</th>\n",
       "    </tr>\n",
       "  </thead>\n",
       "  <tbody>\n",
       "    <tr>\n",
       "      <th>0</th>\n",
       "      <td>As U.S. budget fight looms, Republicans flip t...</td>\n",
       "      <td>WASHINGTON (Reuters) - The head of a conservat...</td>\n",
       "      <td>politicsNews</td>\n",
       "      <td>December 31, 2017</td>\n",
       "      <td>1</td>\n",
       "    </tr>\n",
       "    <tr>\n",
       "      <th>1</th>\n",
       "      <td>U.S. military to accept transgender recruits o...</td>\n",
       "      <td>WASHINGTON (Reuters) - Transgender people will...</td>\n",
       "      <td>politicsNews</td>\n",
       "      <td>December 29, 2017</td>\n",
       "      <td>1</td>\n",
       "    </tr>\n",
       "    <tr>\n",
       "      <th>2</th>\n",
       "      <td>Senior U.S. Republican senator: 'Let Mr. Muell...</td>\n",
       "      <td>WASHINGTON (Reuters) - The special counsel inv...</td>\n",
       "      <td>politicsNews</td>\n",
       "      <td>December 31, 2017</td>\n",
       "      <td>1</td>\n",
       "    </tr>\n",
       "    <tr>\n",
       "      <th>3</th>\n",
       "      <td>FBI Russia probe helped by Australian diplomat...</td>\n",
       "      <td>WASHINGTON (Reuters) - Trump campaign adviser ...</td>\n",
       "      <td>politicsNews</td>\n",
       "      <td>December 30, 2017</td>\n",
       "      <td>1</td>\n",
       "    </tr>\n",
       "    <tr>\n",
       "      <th>4</th>\n",
       "      <td>Trump wants Postal Service to charge 'much mor...</td>\n",
       "      <td>SEATTLE/WASHINGTON (Reuters) - President Donal...</td>\n",
       "      <td>politicsNews</td>\n",
       "      <td>December 29, 2017</td>\n",
       "      <td>1</td>\n",
       "    </tr>\n",
       "  </tbody>\n",
       "</table>\n",
       "</div>"
      ],
      "text/plain": [
       "                                               title  \\\n",
       "0  As U.S. budget fight looms, Republicans flip t...   \n",
       "1  U.S. military to accept transgender recruits o...   \n",
       "2  Senior U.S. Republican senator: 'Let Mr. Muell...   \n",
       "3  FBI Russia probe helped by Australian diplomat...   \n",
       "4  Trump wants Postal Service to charge 'much mor...   \n",
       "\n",
       "                                                text       subject  \\\n",
       "0  WASHINGTON (Reuters) - The head of a conservat...  politicsNews   \n",
       "1  WASHINGTON (Reuters) - Transgender people will...  politicsNews   \n",
       "2  WASHINGTON (Reuters) - The special counsel inv...  politicsNews   \n",
       "3  WASHINGTON (Reuters) - Trump campaign adviser ...  politicsNews   \n",
       "4  SEATTLE/WASHINGTON (Reuters) - President Donal...  politicsNews   \n",
       "\n",
       "                 date  label  \n",
       "0  December 31, 2017       1  \n",
       "1  December 29, 2017       1  \n",
       "2  December 31, 2017       1  \n",
       "3  December 30, 2017       1  \n",
       "4  December 29, 2017       1  "
      ]
     },
     "execution_count": 9,
     "metadata": {},
     "output_type": "execute_result"
    }
   ],
   "source": [
    "###Now concatinate the two data frames \n",
    "data=pd.concat([data_true,data_false],axis=0)\n",
    "data.head()"
   ]
  },
  {
   "cell_type": "code",
   "execution_count": 10,
   "id": "50132c99",
   "metadata": {
    "execution": {
     "iopub.execute_input": "2024-06-25T06:15:46.403777Z",
     "iopub.status.busy": "2024-06-25T06:15:46.403363Z",
     "iopub.status.idle": "2024-06-25T06:15:46.410309Z",
     "shell.execute_reply": "2024-06-25T06:15:46.408989Z"
    },
    "papermill": {
     "duration": 0.016846,
     "end_time": "2024-06-25T06:15:46.412418",
     "exception": false,
     "start_time": "2024-06-25T06:15:46.395572",
     "status": "completed"
    },
    "tags": []
   },
   "outputs": [
    {
     "data": {
      "text/plain": [
       "(44689, 5)"
      ]
     },
     "execution_count": 10,
     "metadata": {},
     "output_type": "execute_result"
    }
   ],
   "source": [
    "### Now provide the new indexes \n",
    "data.shape"
   ]
  },
  {
   "cell_type": "code",
   "execution_count": 11,
   "id": "b2437bff",
   "metadata": {
    "execution": {
     "iopub.execute_input": "2024-06-25T06:15:46.427369Z",
     "iopub.status.busy": "2024-06-25T06:15:46.426623Z",
     "iopub.status.idle": "2024-06-25T06:15:46.471485Z",
     "shell.execute_reply": "2024-06-25T06:15:46.470292Z"
    },
    "papermill": {
     "duration": 0.054837,
     "end_time": "2024-06-25T06:15:46.473822",
     "exception": false,
     "start_time": "2024-06-25T06:15:46.418985",
     "status": "completed"
    },
    "tags": []
   },
   "outputs": [],
   "source": [
    "import random \n",
    "random.seed(42)\n",
    "\n",
    "Index=np.arange(0,44689,1)\n",
    "random.shuffle(Index)\n",
    "\n",
    "data.index=Index"
   ]
  },
  {
   "cell_type": "code",
   "execution_count": 12,
   "id": "f2908e58",
   "metadata": {
    "execution": {
     "iopub.execute_input": "2024-06-25T06:15:46.488873Z",
     "iopub.status.busy": "2024-06-25T06:15:46.488472Z",
     "iopub.status.idle": "2024-06-25T06:15:46.507595Z",
     "shell.execute_reply": "2024-06-25T06:15:46.506472Z"
    },
    "papermill": {
     "duration": 0.029637,
     "end_time": "2024-06-25T06:15:46.510225",
     "exception": false,
     "start_time": "2024-06-25T06:15:46.480588",
     "status": "completed"
    },
    "tags": []
   },
   "outputs": [],
   "source": [
    "data.sort_index(inplace=True)"
   ]
  },
  {
   "cell_type": "code",
   "execution_count": 13,
   "id": "f9676278",
   "metadata": {
    "execution": {
     "iopub.execute_input": "2024-06-25T06:15:46.525503Z",
     "iopub.status.busy": "2024-06-25T06:15:46.524575Z",
     "iopub.status.idle": "2024-06-25T06:15:46.637976Z",
     "shell.execute_reply": "2024-06-25T06:15:46.637068Z"
    },
    "papermill": {
     "duration": 0.123287,
     "end_time": "2024-06-25T06:15:46.640145",
     "exception": false,
     "start_time": "2024-06-25T06:15:46.516858",
     "status": "completed"
    },
    "tags": []
   },
   "outputs": [
    {
     "data": {
      "text/plain": [
       "0"
      ]
     },
     "execution_count": 13,
     "metadata": {},
     "output_type": "execute_result"
    }
   ],
   "source": [
    "### there are duplicate rows present in the data so we habe to handle them first \n",
    "data.drop_duplicates('text',inplace=True)\n",
    "data['text'].duplicated().sum()"
   ]
  },
  {
   "cell_type": "code",
   "execution_count": 14,
   "id": "d438bd13",
   "metadata": {
    "execution": {
     "iopub.execute_input": "2024-06-25T06:15:46.655253Z",
     "iopub.status.busy": "2024-06-25T06:15:46.654851Z",
     "iopub.status.idle": "2024-06-25T06:15:46.678857Z",
     "shell.execute_reply": "2024-06-25T06:15:46.677573Z"
    },
    "papermill": {
     "duration": 0.034856,
     "end_time": "2024-06-25T06:15:46.681806",
     "exception": false,
     "start_time": "2024-06-25T06:15:46.646950",
     "status": "completed"
    },
    "tags": []
   },
   "outputs": [],
   "source": [
    "data.drop_duplicates('title',inplace=True)"
   ]
  },
  {
   "cell_type": "code",
   "execution_count": 15,
   "id": "77794141",
   "metadata": {
    "execution": {
     "iopub.execute_input": "2024-06-25T06:15:46.697770Z",
     "iopub.status.busy": "2024-06-25T06:15:46.697345Z",
     "iopub.status.idle": "2024-06-25T06:15:46.704739Z",
     "shell.execute_reply": "2024-06-25T06:15:46.703263Z"
    },
    "papermill": {
     "duration": 0.018123,
     "end_time": "2024-06-25T06:15:46.706887",
     "exception": false,
     "start_time": "2024-06-25T06:15:46.688764",
     "status": "completed"
    },
    "tags": []
   },
   "outputs": [
    {
     "data": {
      "text/plain": [
       "Index(['title', 'text', 'subject', 'date', 'label'], dtype='object')"
      ]
     },
     "execution_count": 15,
     "metadata": {},
     "output_type": "execute_result"
    }
   ],
   "source": [
    "### Now lets remove the subject and data as they are not relvent to the truth value of the news \n",
    "data.columns"
   ]
  },
  {
   "cell_type": "code",
   "execution_count": 16,
   "id": "8973b1e2",
   "metadata": {
    "execution": {
     "iopub.execute_input": "2024-06-25T06:15:46.722796Z",
     "iopub.status.busy": "2024-06-25T06:15:46.722037Z",
     "iopub.status.idle": "2024-06-25T06:15:46.734047Z",
     "shell.execute_reply": "2024-06-25T06:15:46.733090Z"
    },
    "papermill": {
     "duration": 0.022255,
     "end_time": "2024-06-25T06:15:46.736329",
     "exception": false,
     "start_time": "2024-06-25T06:15:46.714074",
     "status": "completed"
    },
    "tags": []
   },
   "outputs": [],
   "source": [
    "data.drop(['subject','date'],axis=1,inplace=True)"
   ]
  },
  {
   "cell_type": "code",
   "execution_count": 17,
   "id": "1df33dd7",
   "metadata": {
    "execution": {
     "iopub.execute_input": "2024-06-25T06:15:46.751553Z",
     "iopub.status.busy": "2024-06-25T06:15:46.751182Z",
     "iopub.status.idle": "2024-06-25T06:15:46.756168Z",
     "shell.execute_reply": "2024-06-25T06:15:46.755152Z"
    },
    "papermill": {
     "duration": 0.014968,
     "end_time": "2024-06-25T06:15:46.758170",
     "exception": false,
     "start_time": "2024-06-25T06:15:46.743202",
     "status": "completed"
    },
    "tags": []
   },
   "outputs": [],
   "source": [
    "### we would only try to take a small sample of the bigger subject because of the limited resources\n",
    "data_sample=data.iloc[1:1000,:]"
   ]
  },
  {
   "cell_type": "code",
   "execution_count": 18,
   "id": "1740c19f",
   "metadata": {
    "execution": {
     "iopub.execute_input": "2024-06-25T06:15:46.773703Z",
     "iopub.status.busy": "2024-06-25T06:15:46.773315Z",
     "iopub.status.idle": "2024-06-25T06:15:46.780109Z",
     "shell.execute_reply": "2024-06-25T06:15:46.779128Z"
    },
    "papermill": {
     "duration": 0.017026,
     "end_time": "2024-06-25T06:15:46.782354",
     "exception": false,
     "start_time": "2024-06-25T06:15:46.765328",
     "status": "completed"
    },
    "tags": []
   },
   "outputs": [
    {
     "data": {
      "text/plain": [
       "(999, 3)"
      ]
     },
     "execution_count": 18,
     "metadata": {},
     "output_type": "execute_result"
    }
   ],
   "source": [
    "data_sample.shape"
   ]
  },
  {
   "cell_type": "code",
   "execution_count": 19,
   "id": "c3a7966d",
   "metadata": {
    "execution": {
     "iopub.execute_input": "2024-06-25T06:15:46.798251Z",
     "iopub.status.busy": "2024-06-25T06:15:46.797828Z",
     "iopub.status.idle": "2024-06-25T06:17:00.192907Z",
     "shell.execute_reply": "2024-06-25T06:17:00.191593Z"
    },
    "papermill": {
     "duration": 73.406189,
     "end_time": "2024-06-25T06:17:00.195650",
     "exception": false,
     "start_time": "2024-06-25T06:15:46.789461",
     "status": "completed"
    },
    "tags": []
   },
   "outputs": [],
   "source": [
    "import warnings \n",
    "warnings.filterwarnings('ignore')\n",
    "\n",
    "data_sample['text']=data_sample['text'].apply(lambda x:lemmatize(x,model))"
   ]
  },
  {
   "cell_type": "code",
   "execution_count": 20,
   "id": "2e5600ca",
   "metadata": {
    "execution": {
     "iopub.execute_input": "2024-06-25T06:17:00.212450Z",
     "iopub.status.busy": "2024-06-25T06:17:00.211211Z",
     "iopub.status.idle": "2024-06-25T06:17:00.222959Z",
     "shell.execute_reply": "2024-06-25T06:17:00.221864Z"
    },
    "papermill": {
     "duration": 0.022452,
     "end_time": "2024-06-25T06:17:00.225303",
     "exception": false,
     "start_time": "2024-06-25T06:17:00.202851",
     "status": "completed"
    },
    "tags": []
   },
   "outputs": [
    {
     "data": {
      "text/plain": [
       "label\n",
       "0    512\n",
       "1    487\n",
       "Name: count, dtype: int64"
      ]
     },
     "execution_count": 20,
     "metadata": {},
     "output_type": "execute_result"
    }
   ],
   "source": [
    "data_sample['label'].value_counts()"
   ]
  },
  {
   "cell_type": "code",
   "execution_count": 21,
   "id": "f3964a82",
   "metadata": {
    "execution": {
     "iopub.execute_input": "2024-06-25T06:17:00.242015Z",
     "iopub.status.busy": "2024-06-25T06:17:00.241134Z",
     "iopub.status.idle": "2024-06-25T06:17:00.562393Z",
     "shell.execute_reply": "2024-06-25T06:17:00.561083Z"
    },
    "papermill": {
     "duration": 0.33225,
     "end_time": "2024-06-25T06:17:00.565070",
     "exception": false,
     "start_time": "2024-06-25T06:17:00.232820",
     "status": "completed"
    },
    "tags": []
   },
   "outputs": [],
   "source": [
    "from imblearn.over_sampling import RandomOverSampler \n",
    "\n",
    "oversampler=RandomOverSampler()\n",
    "\n",
    "X=data_sample['text'].values\n",
    "y=data_sample['label'].values\n",
    "\n",
    "X_resample,y_resample=oversampler.fit_resample(X.reshape(-1,1),y)"
   ]
  },
  {
   "cell_type": "code",
   "execution_count": 22,
   "id": "ab84b189",
   "metadata": {
    "execution": {
     "iopub.execute_input": "2024-06-25T06:17:00.582307Z",
     "iopub.status.busy": "2024-06-25T06:17:00.581160Z",
     "iopub.status.idle": "2024-06-25T06:17:01.352811Z",
     "shell.execute_reply": "2024-06-25T06:17:01.351590Z"
    },
    "papermill": {
     "duration": 0.782889,
     "end_time": "2024-06-25T06:17:01.355487",
     "exception": false,
     "start_time": "2024-06-25T06:17:00.572598",
     "status": "completed"
    },
    "tags": []
   },
   "outputs": [
    {
     "name": "stdout",
     "output_type": "stream",
     "text": [
      "              precision    recall  f1-score   support\n",
      "\n",
      "           0       0.99      0.93      0.96       103\n",
      "           1       0.94      0.99      0.96       102\n",
      "\n",
      "    accuracy                           0.96       205\n",
      "   macro avg       0.96      0.96      0.96       205\n",
      "weighted avg       0.96      0.96      0.96       205\n",
      "\n"
     ]
    }
   ],
   "source": [
    "from sklearn.model_selection import train_test_split \n",
    "from sklearn.linear_model import LogisticRegression \n",
    "from sklearn.feature_extraction.text import CountVectorizer\n",
    "from sklearn.pipeline import Pipeline \n",
    "from sklearn.metrics import classification_report,accuracy_score\n",
    "\n",
    "\n",
    "X_resample=X_resample.reshape(-1)\n",
    "\n",
    "X_train,X_test,y_train,y_test=train_test_split(X_resample,y_resample,train_size=0.8,random_state=42,stratify=y_resample)\n",
    "\n",
    "clf=Pipeline([\n",
    "    ('vectorizer',CountVectorizer()),\n",
    "    ('Learning Model',LogisticRegression())\n",
    "])\n",
    "\n",
    "clf.fit(X_train,y_train)\n",
    "\n",
    "y_pred=clf.predict(X_test)\n",
    "\n",
    "print(classification_report(y_test,y_pred))"
   ]
  },
  {
   "cell_type": "code",
   "execution_count": 23,
   "id": "832c5288",
   "metadata": {
    "execution": {
     "iopub.execute_input": "2024-06-25T06:17:01.371777Z",
     "iopub.status.busy": "2024-06-25T06:17:01.371377Z",
     "iopub.status.idle": "2024-06-25T06:17:01.377819Z",
     "shell.execute_reply": "2024-06-25T06:17:01.376854Z"
    },
    "papermill": {
     "duration": 0.017982,
     "end_time": "2024-06-25T06:17:01.380880",
     "exception": false,
     "start_time": "2024-06-25T06:17:01.362898",
     "status": "completed"
    },
    "tags": []
   },
   "outputs": [
    {
     "name": "stdout",
     "output_type": "stream",
     "text": [
      "0.9609756097560975\n"
     ]
    }
   ],
   "source": [
    "print(accuracy_score(y_test,y_pred))"
   ]
  }
 ],
 "metadata": {
  "kaggle": {
   "accelerator": "none",
   "dataSources": [
    {
     "datasetId": 4831777,
     "sourceId": 8165591,
     "sourceType": "datasetVersion"
    }
   ],
   "dockerImageVersionId": 30698,
   "isGpuEnabled": false,
   "isInternetEnabled": false,
   "language": "python",
   "sourceType": "notebook"
  },
  "kernelspec": {
   "display_name": "Python 3",
   "language": "python",
   "name": "python3"
  },
  "language_info": {
   "codemirror_mode": {
    "name": "ipython",
    "version": 3
   },
   "file_extension": ".py",
   "mimetype": "text/x-python",
   "name": "python",
   "nbconvert_exporter": "python",
   "pygments_lexer": "ipython3",
   "version": "3.10.13"
  },
  "papermill": {
   "default_parameters": {},
   "duration": 92.5819,
   "end_time": "2024-06-25T06:17:02.813555",
   "environment_variables": {},
   "exception": null,
   "input_path": "__notebook__.ipynb",
   "output_path": "__notebook__.ipynb",
   "parameters": {},
   "start_time": "2024-06-25T06:15:30.231655",
   "version": "2.5.0"
  }
 },
 "nbformat": 4,
 "nbformat_minor": 5
}
